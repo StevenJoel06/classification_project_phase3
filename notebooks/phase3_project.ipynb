{
 "cells": [
  {
   "cell_type": "code",
   "execution_count": 1,
   "id": "17f95bde",
   "metadata": {},
   "outputs": [],
   "source": [
    "# --- Step 1: Import necessary libraries ---\n",
    "import pandas as pd\n",
    "import numpy as np"
   ]
  },
  {
   "cell_type": "code",
   "execution_count": 2,
   "id": "89e2c867",
   "metadata": {},
   "outputs": [],
   "source": [
    "# --- Step 2: Define column names ---\n",
    "# These names are taken directly from the UCI dataset documentation.\n",
    "column_names = [\n",
    "    'id', 'clump_thickness', 'uniformity_of_cell_size', 'uniformity_of_cell_shape',\n",
    "    'marginal_adhesion', 'single_epithelial_cell_size', 'bare_nuclei',\n",
    "    'bland_chromatin', 'normal_nucleoli', 'mitoses', 'class'\n",
    "]\n"
   ]
  },
  {
   "cell_type": "code",
   "execution_count": 3,
   "id": "e13f11c2",
   "metadata": {},
   "outputs": [
    {
     "name": "stdout",
     "output_type": "stream",
     "text": [
      "Dataset loaded successfully!\n"
     ]
    }
   ],
   "source": [
    "# --- Step 3: Load the dataset ---\n",
    "# The path is relative to the notebook's current location.\n",
    "data_path = '../dataset/breast-cancer-wisconsin.data'\n",
    "\n",
    "try:\n",
    "    df = pd.read_csv(data_path, names=column_names)\n",
    "    print(\"Dataset loaded successfully!\")\n",
    "except FileNotFoundError:\n",
    "    print(f\"Error: The file '{data_path}' was not found. Please ensure it's in the correct 'dataset' folder.\")\n",
    "    print(\"Your current working directory for this notebook is likely in 'notebooks/'.\")\n",
    "    print(\"Check if the file is in 'classification_project/dataset/breast-cancer-wisconsin.data'\")\n",
    "    exit() "
   ]
  },
  {
   "cell_type": "code",
   "execution_count": 4,
   "id": "9d5e0586",
   "metadata": {},
   "outputs": [
    {
     "name": "stdout",
     "output_type": "stream",
     "text": [
      "\n",
      "--- First 5 rows of the dataset ---\n",
      "        id  clump_thickness  uniformity_of_cell_size  \\\n",
      "0  1000025                5                        1   \n",
      "1  1002945                5                        4   \n",
      "2  1015425                3                        1   \n",
      "3  1016277                6                        8   \n",
      "4  1017023                4                        1   \n",
      "\n",
      "   uniformity_of_cell_shape  marginal_adhesion  single_epithelial_cell_size  \\\n",
      "0                         1                  1                            2   \n",
      "1                         4                  5                            7   \n",
      "2                         1                  1                            2   \n",
      "3                         8                  1                            3   \n",
      "4                         1                  3                            2   \n",
      "\n",
      "  bare_nuclei  bland_chromatin  normal_nucleoli  mitoses  class  \n",
      "0           1                3                1        1      2  \n",
      "1          10                3                2        1      2  \n",
      "2           2                3                1        1      2  \n",
      "3           4                3                7        1      2  \n",
      "4           1                3                1        1      2  \n"
     ]
    }
   ],
   "source": [
    "# --- Step 4: Initial Data Inspection ---\n",
    "print(\"\\n--- First 5 rows of the dataset ---\")\n",
    "print(df.head())"
   ]
  },
  {
   "cell_type": "code",
   "execution_count": 5,
   "id": "4600a4bc",
   "metadata": {},
   "outputs": [
    {
     "name": "stdout",
     "output_type": "stream",
     "text": [
      "\n",
      "--- Descriptive Statistics ---\n",
      "                 id  clump_thickness  uniformity_of_cell_size  \\\n",
      "count  6.990000e+02       699.000000               699.000000   \n",
      "mean   1.071704e+06         4.417740                 3.134478   \n",
      "std    6.170957e+05         2.815741                 3.051459   \n",
      "min    6.163400e+04         1.000000                 1.000000   \n",
      "25%    8.706885e+05         2.000000                 1.000000   \n",
      "50%    1.171710e+06         4.000000                 1.000000   \n",
      "75%    1.238298e+06         6.000000                 5.000000   \n",
      "max    1.345435e+07        10.000000                10.000000   \n",
      "\n",
      "       uniformity_of_cell_shape  marginal_adhesion  \\\n",
      "count                699.000000         699.000000   \n",
      "mean                   3.207439           2.806867   \n",
      "std                    2.971913           2.855379   \n",
      "min                    1.000000           1.000000   \n",
      "25%                    1.000000           1.000000   \n",
      "50%                    1.000000           1.000000   \n",
      "75%                    5.000000           4.000000   \n",
      "max                   10.000000          10.000000   \n",
      "\n",
      "       single_epithelial_cell_size  bland_chromatin  normal_nucleoli  \\\n",
      "count                   699.000000       699.000000       699.000000   \n",
      "mean                      3.216023         3.437768         2.866953   \n",
      "std                       2.214300         2.438364         3.053634   \n",
      "min                       1.000000         1.000000         1.000000   \n",
      "25%                       2.000000         2.000000         1.000000   \n",
      "50%                       2.000000         3.000000         1.000000   \n",
      "75%                       4.000000         5.000000         4.000000   \n",
      "max                      10.000000        10.000000        10.000000   \n",
      "\n",
      "          mitoses       class  \n",
      "count  699.000000  699.000000  \n",
      "mean     1.589413    2.689557  \n",
      "std      1.715078    0.951273  \n",
      "min      1.000000    2.000000  \n",
      "25%      1.000000    2.000000  \n",
      "50%      1.000000    2.000000  \n",
      "75%      1.000000    4.000000  \n",
      "max     10.000000    4.000000  \n"
     ]
    }
   ],
   "source": [
    "print(\"\\n--- Descriptive Statistics ---\")\n",
    "print(df.describe())"
   ]
  },
  {
   "cell_type": "code",
   "execution_count": 6,
   "id": "325ea0ff",
   "metadata": {},
   "outputs": [
    {
     "name": "stdout",
     "output_type": "stream",
     "text": [
      "\n",
      "--- Dataset Info (data types, non-null counts) ---\n",
      "<class 'pandas.core.frame.DataFrame'>\n",
      "RangeIndex: 699 entries, 0 to 698\n",
      "Data columns (total 11 columns):\n",
      " #   Column                       Non-Null Count  Dtype \n",
      "---  ------                       --------------  ----- \n",
      " 0   id                           699 non-null    int64 \n",
      " 1   clump_thickness              699 non-null    int64 \n",
      " 2   uniformity_of_cell_size      699 non-null    int64 \n",
      " 3   uniformity_of_cell_shape     699 non-null    int64 \n",
      " 4   marginal_adhesion            699 non-null    int64 \n",
      " 5   single_epithelial_cell_size  699 non-null    int64 \n",
      " 6   bare_nuclei                  699 non-null    object\n",
      " 7   bland_chromatin              699 non-null    int64 \n",
      " 8   normal_nucleoli              699 non-null    int64 \n",
      " 9   mitoses                      699 non-null    int64 \n",
      " 10  class                        699 non-null    int64 \n",
      "dtypes: int64(10), object(1)\n",
      "memory usage: 60.2+ KB\n",
      "None\n"
     ]
    }
   ],
   "source": [
    "print(\"\\n--- Dataset Info (data types, non-null counts) ---\")\n",
    "print(df.info())"
   ]
  },
  {
   "cell_type": "code",
   "execution_count": 7,
   "id": "dc82c24e",
   "metadata": {},
   "outputs": [
    {
     "name": "stdout",
     "output_type": "stream",
     "text": [
      "\n",
      "--- Class Distribution ---\n",
      "2    458\n",
      "4    241\n",
      "Name: class, dtype: int64\n"
     ]
    }
   ],
   "source": [
    "print(\"\\n--- Class Distribution ---\")\n",
    "print(df['class'].value_counts())"
   ]
  },
  {
   "cell_type": "code",
   "execution_count": 8,
   "id": "655bdcc5",
   "metadata": {},
   "outputs": [],
   "source": [
    "# --- Step 5: Handle Missing Values in 'bare_nuclei' ---\n",
    "# As confirmed, '?' denotes missing values in this column.\n",
    "# First, replace '?' with numpy's NaN.\n",
    "df['bare_nuclei'] = df['bare_nuclei'].replace('?', np.nan)"
   ]
  },
  {
   "cell_type": "code",
   "execution_count": 9,
   "id": "093049b0",
   "metadata": {},
   "outputs": [],
   "source": [
    "# Convert the column to numeric type. This is crucial before imputation.\n",
    "# 'errors='coerce'' will turn any values that cannot be converted to numeric into NaN.\n",
    "df['bare_nuclei'] = pd.to_numeric(df['bare_nuclei'], errors='coerce')"
   ]
  },
  {
   "cell_type": "code",
   "execution_count": 10,
   "id": "4d835056",
   "metadata": {},
   "outputs": [
    {
     "name": "stdout",
     "output_type": "stream",
     "text": [
      "\n",
      "--- Missing values after '?' replacement and type conversion ---\n",
      "id                              0\n",
      "clump_thickness                 0\n",
      "uniformity_of_cell_size         0\n",
      "uniformity_of_cell_shape        0\n",
      "marginal_adhesion               0\n",
      "single_epithelial_cell_size     0\n",
      "bare_nuclei                    16\n",
      "bland_chromatin                 0\n",
      "normal_nucleoli                 0\n",
      "mitoses                         0\n",
      "class                           0\n",
      "dtype: int64\n"
     ]
    }
   ],
   "source": [
    "# Check for remaining missing values\n",
    "print(\"\\n--- Missing values after '?' replacement and type conversion ---\")\n",
    "print(df.isnull().sum())"
   ]
  },
  {
   "cell_type": "code",
   "execution_count": 11,
   "id": "ffe7b314",
   "metadata": {},
   "outputs": [
    {
     "name": "stdout",
     "output_type": "stream",
     "text": [
      "\n",
      "Missing values in 'bare_nuclei' filled with median: 1.0\n",
      "--- Missing values after imputation ---\n",
      "id                             0\n",
      "clump_thickness                0\n",
      "uniformity_of_cell_size        0\n",
      "uniformity_of_cell_shape       0\n",
      "marginal_adhesion              0\n",
      "single_epithelial_cell_size    0\n",
      "bare_nuclei                    0\n",
      "bland_chromatin                0\n",
      "normal_nucleoli                0\n",
      "mitoses                        0\n",
      "class                          0\n",
      "dtype: int64\n"
     ]
    }
   ],
   "source": [
    "# Impute missing values with the median (a robust choice for potentially skewed data)\n",
    "median_bare_nuclei = df['bare_nuclei'].median()\n",
    "df['bare_nuclei'].fillna(median_bare_nuclei, inplace=True)\n",
    "\n",
    "print(f\"\\nMissing values in 'bare_nuclei' filled with median: {median_bare_nuclei}\")\n",
    "print(\"--- Missing values after imputation ---\")\n",
    "print(df.isnull().sum())"
   ]
  },
  {
   "cell_type": "code",
   "execution_count": 12,
   "id": "3900b737",
   "metadata": {},
   "outputs": [
    {
     "name": "stdout",
     "output_type": "stream",
     "text": [
      "\n",
      "'id' column dropped.\n",
      "   clump_thickness  uniformity_of_cell_size  uniformity_of_cell_shape  \\\n",
      "0                5                        1                         1   \n",
      "1                5                        4                         4   \n",
      "2                3                        1                         1   \n",
      "3                6                        8                         8   \n",
      "4                4                        1                         1   \n",
      "\n",
      "   marginal_adhesion  single_epithelial_cell_size  bare_nuclei  \\\n",
      "0                  1                            2          1.0   \n",
      "1                  5                            7         10.0   \n",
      "2                  1                            2          2.0   \n",
      "3                  1                            3          4.0   \n",
      "4                  3                            2          1.0   \n",
      "\n",
      "   bland_chromatin  normal_nucleoli  mitoses  class  \n",
      "0                3                1        1      2  \n",
      "1                3                2        1      2  \n",
      "2                3                1        1      2  \n",
      "3                3                7        1      2  \n",
      "4                3                1        1      2  \n"
     ]
    }
   ],
   "source": [
    "# --- Step 6: Drop the 'id' column ---\n",
    "# The 'id' column is a unique identifier and not a predictive feature.\n",
    "df.drop('id', axis=1, inplace=True)\n",
    "print(\"\\n'id' column dropped.\")\n",
    "print(df.head())"
   ]
  },
  {
   "cell_type": "code",
   "execution_count": 13,
   "id": "b9fcd66b",
   "metadata": {},
   "outputs": [
    {
     "name": "stdout",
     "output_type": "stream",
     "text": [
      "\n",
      "--- Class distribution after mapping (0 for benign, 1 for malignant) ---\n",
      "0    458\n",
      "1    241\n",
      "Name: class, dtype: int64\n",
      "\n",
      "--- Preprocessing steps completed. Data is now clean and ready for splitting and scaling. ---\n",
      "   clump_thickness  uniformity_of_cell_size  uniformity_of_cell_shape  \\\n",
      "0                5                        1                         1   \n",
      "1                5                        4                         4   \n",
      "2                3                        1                         1   \n",
      "3                6                        8                         8   \n",
      "4                4                        1                         1   \n",
      "\n",
      "   marginal_adhesion  single_epithelial_cell_size  bare_nuclei  \\\n",
      "0                  1                            2          1.0   \n",
      "1                  5                            7         10.0   \n",
      "2                  1                            2          2.0   \n",
      "3                  1                            3          4.0   \n",
      "4                  3                            2          1.0   \n",
      "\n",
      "   bland_chromatin  normal_nucleoli  mitoses  class  \n",
      "0                3                1        1      0  \n",
      "1                3                2        1      0  \n",
      "2                3                1        1      0  \n",
      "3                3                7        1      0  \n",
      "4                3                1        1      0  \n",
      "<class 'pandas.core.frame.DataFrame'>\n",
      "RangeIndex: 699 entries, 0 to 698\n",
      "Data columns (total 10 columns):\n",
      " #   Column                       Non-Null Count  Dtype  \n",
      "---  ------                       --------------  -----  \n",
      " 0   clump_thickness              699 non-null    int64  \n",
      " 1   uniformity_of_cell_size      699 non-null    int64  \n",
      " 2   uniformity_of_cell_shape     699 non-null    int64  \n",
      " 3   marginal_adhesion            699 non-null    int64  \n",
      " 4   single_epithelial_cell_size  699 non-null    int64  \n",
      " 5   bare_nuclei                  699 non-null    float64\n",
      " 6   bland_chromatin              699 non-null    int64  \n",
      " 7   normal_nucleoli              699 non-null    int64  \n",
      " 8   mitoses                      699 non-null    int64  \n",
      " 9   class                        699 non-null    int64  \n",
      "dtypes: float64(1), int64(9)\n",
      "memory usage: 54.7 KB\n",
      "None\n"
     ]
    }
   ],
   "source": [
    "# --- Step 8: Transform the 'class' target variable to 0 and 1 ---\n",
    "# 2 = benign (map to 0)\n",
    "# 4 = malignant (map to 1)\n",
    "df['class'] = df['class'].map({2: 0, 4: 1})\n",
    "print(\"\\n--- Class distribution after mapping (0 for benign, 1 for malignant) ---\")\n",
    "print(df['class'].value_counts())\n",
    "\n",
    "\n",
    "print(\"\\n--- Preprocessing steps completed. Data is now clean and ready for splitting and scaling. ---\")\n",
    "print(df.head())\n",
    "print(df.info())"
   ]
  },
  {
   "cell_type": "code",
   "execution_count": null,
   "id": "60400496",
   "metadata": {},
   "outputs": [],
   "source": []
  }
 ],
 "metadata": {
  "kernelspec": {
   "display_name": "Python 3 (ipykernel)",
   "language": "python",
   "name": "python3"
  },
  "language_info": {
   "codemirror_mode": {
    "name": "ipython",
    "version": 3
   },
   "file_extension": ".py",
   "mimetype": "text/x-python",
   "name": "python",
   "nbconvert_exporter": "python",
   "pygments_lexer": "ipython3",
   "version": "3.11.4"
  }
 },
 "nbformat": 4,
 "nbformat_minor": 5
}
