{
 "cells": [
  {
   "cell_type": "code",
   "execution_count": 1,
   "id": "17f95bde",
   "metadata": {},
   "outputs": [],
   "source": [
    "# --- Step 1: Import necessary libraries ---\n",
    "import pandas as pd\n",
    "import numpy as np"
   ]
  },
  {
   "cell_type": "code",
   "execution_count": 2,
   "id": "89e2c867",
   "metadata": {},
   "outputs": [],
   "source": [
    "# --- Step 2: Define column names ---\n",
    "# These names are taken directly from the UCI dataset documentation.\n",
    "column_names = [\n",
    "    'id', 'clump_thickness', 'uniformity_of_cell_size', 'uniformity_of_cell_shape',\n",
    "    'marginal_adhesion', 'single_epithelial_cell_size', 'bare_nuclei',\n",
    "    'bland_chromatin', 'normal_nucleoli', 'mitoses', 'class'\n",
    "]\n"
   ]
  },
  {
   "cell_type": "code",
   "execution_count": 3,
   "id": "e13f11c2",
   "metadata": {},
   "outputs": [
    {
     "name": "stdout",
     "output_type": "stream",
     "text": [
      "Dataset loaded successfully!\n"
     ]
    }
   ],
   "source": [
    "# --- Step 3: Load the dataset ---\n",
    "# The path is relative to the notebook's current location.\n",
    "data_path = '../dataset/breast-cancer-wisconsin.data'\n",
    "\n",
    "try:\n",
    "    df = pd.read_csv(data_path, names=column_names)\n",
    "    print(\"Dataset loaded successfully!\")\n",
    "except FileNotFoundError:\n",
    "    print(f\"Error: The file '{data_path}' was not found. Please ensure it's in the correct 'dataset' folder.\")\n",
    "    print(\"Your current working directory for this notebook is likely in 'notebooks/'.\")\n",
    "    print(\"Check if the file is in 'classification_project/dataset/breast-cancer-wisconsin.data'\")\n",
    "    exit() "
   ]
  },
  {
   "cell_type": "code",
   "execution_count": 4,
   "id": "9d5e0586",
   "metadata": {},
   "outputs": [
    {
     "name": "stdout",
     "output_type": "stream",
     "text": [
      "\n",
      "--- First 5 rows of the dataset ---\n",
      "        id  clump_thickness  uniformity_of_cell_size  \\\n",
      "0  1000025                5                        1   \n",
      "1  1002945                5                        4   \n",
      "2  1015425                3                        1   \n",
      "3  1016277                6                        8   \n",
      "4  1017023                4                        1   \n",
      "\n",
      "   uniformity_of_cell_shape  marginal_adhesion  single_epithelial_cell_size  \\\n",
      "0                         1                  1                            2   \n",
      "1                         4                  5                            7   \n",
      "2                         1                  1                            2   \n",
      "3                         8                  1                            3   \n",
      "4                         1                  3                            2   \n",
      "\n",
      "  bare_nuclei  bland_chromatin  normal_nucleoli  mitoses  class  \n",
      "0           1                3                1        1      2  \n",
      "1          10                3                2        1      2  \n",
      "2           2                3                1        1      2  \n",
      "3           4                3                7        1      2  \n",
      "4           1                3                1        1      2  \n"
     ]
    }
   ],
   "source": [
    "# --- Step 4: Initial Data Inspection ---\n",
    "print(\"\\n--- First 5 rows of the dataset ---\")\n",
    "print(df.head())"
   ]
  },
  {
   "cell_type": "code",
   "execution_count": 5,
   "id": "4600a4bc",
   "metadata": {},
   "outputs": [
    {
     "name": "stdout",
     "output_type": "stream",
     "text": [
      "\n",
      "--- Descriptive Statistics ---\n",
      "                 id  clump_thickness  uniformity_of_cell_size  \\\n",
      "count  6.990000e+02       699.000000               699.000000   \n",
      "mean   1.071704e+06         4.417740                 3.134478   \n",
      "std    6.170957e+05         2.815741                 3.051459   \n",
      "min    6.163400e+04         1.000000                 1.000000   \n",
      "25%    8.706885e+05         2.000000                 1.000000   \n",
      "50%    1.171710e+06         4.000000                 1.000000   \n",
      "75%    1.238298e+06         6.000000                 5.000000   \n",
      "max    1.345435e+07        10.000000                10.000000   \n",
      "\n",
      "       uniformity_of_cell_shape  marginal_adhesion  \\\n",
      "count                699.000000         699.000000   \n",
      "mean                   3.207439           2.806867   \n",
      "std                    2.971913           2.855379   \n",
      "min                    1.000000           1.000000   \n",
      "25%                    1.000000           1.000000   \n",
      "50%                    1.000000           1.000000   \n",
      "75%                    5.000000           4.000000   \n",
      "max                   10.000000          10.000000   \n",
      "\n",
      "       single_epithelial_cell_size  bland_chromatin  normal_nucleoli  \\\n",
      "count                   699.000000       699.000000       699.000000   \n",
      "mean                      3.216023         3.437768         2.866953   \n",
      "std                       2.214300         2.438364         3.053634   \n",
      "min                       1.000000         1.000000         1.000000   \n",
      "25%                       2.000000         2.000000         1.000000   \n",
      "50%                       2.000000         3.000000         1.000000   \n",
      "75%                       4.000000         5.000000         4.000000   \n",
      "max                      10.000000        10.000000        10.000000   \n",
      "\n",
      "          mitoses       class  \n",
      "count  699.000000  699.000000  \n",
      "mean     1.589413    2.689557  \n",
      "std      1.715078    0.951273  \n",
      "min      1.000000    2.000000  \n",
      "25%      1.000000    2.000000  \n",
      "50%      1.000000    2.000000  \n",
      "75%      1.000000    4.000000  \n",
      "max     10.000000    4.000000  \n"
     ]
    }
   ],
   "source": [
    "print(\"\\n--- Descriptive Statistics ---\")\n",
    "print(df.describe())"
   ]
  },
  {
   "cell_type": "code",
   "execution_count": 6,
   "id": "325ea0ff",
   "metadata": {},
   "outputs": [
    {
     "name": "stdout",
     "output_type": "stream",
     "text": [
      "\n",
      "--- Dataset Info (data types, non-null counts) ---\n",
      "<class 'pandas.core.frame.DataFrame'>\n",
      "RangeIndex: 699 entries, 0 to 698\n",
      "Data columns (total 11 columns):\n",
      " #   Column                       Non-Null Count  Dtype \n",
      "---  ------                       --------------  ----- \n",
      " 0   id                           699 non-null    int64 \n",
      " 1   clump_thickness              699 non-null    int64 \n",
      " 2   uniformity_of_cell_size      699 non-null    int64 \n",
      " 3   uniformity_of_cell_shape     699 non-null    int64 \n",
      " 4   marginal_adhesion            699 non-null    int64 \n",
      " 5   single_epithelial_cell_size  699 non-null    int64 \n",
      " 6   bare_nuclei                  699 non-null    object\n",
      " 7   bland_chromatin              699 non-null    int64 \n",
      " 8   normal_nucleoli              699 non-null    int64 \n",
      " 9   mitoses                      699 non-null    int64 \n",
      " 10  class                        699 non-null    int64 \n",
      "dtypes: int64(10), object(1)\n",
      "memory usage: 60.2+ KB\n",
      "None\n"
     ]
    }
   ],
   "source": [
    "print(\"\\n--- Dataset Info (data types, non-null counts) ---\")\n",
    "print(df.info())"
   ]
  },
  {
   "cell_type": "code",
   "execution_count": 7,
   "id": "dc82c24e",
   "metadata": {},
   "outputs": [
    {
     "name": "stdout",
     "output_type": "stream",
     "text": [
      "\n",
      "--- Class Distribution ---\n",
      "2    458\n",
      "4    241\n",
      "Name: class, dtype: int64\n"
     ]
    }
   ],
   "source": [
    "print(\"\\n--- Class Distribution ---\")\n",
    "print(df['class'].value_counts())"
   ]
  },
  {
   "cell_type": "code",
   "execution_count": 8,
   "id": "655bdcc5",
   "metadata": {},
   "outputs": [],
   "source": [
    "# --- Step 5: Handle Missing Values in 'bare_nuclei' ---\n",
    "# As confirmed, '?' denotes missing values in this column.\n",
    "# First, replace '?' with numpy's NaN.\n",
    "df['bare_nuclei'] = df['bare_nuclei'].replace('?', np.nan)"
   ]
  },
  {
   "cell_type": "code",
   "execution_count": 9,
   "id": "093049b0",
   "metadata": {},
   "outputs": [],
   "source": [
    "# Convert the column to numeric type. This is crucial before imputation.\n",
    "# 'errors='coerce'' will turn any values that cannot be converted to numeric into NaN.\n",
    "df['bare_nuclei'] = pd.to_numeric(df['bare_nuclei'], errors='coerce')"
   ]
  },
  {
   "cell_type": "code",
   "execution_count": 10,
   "id": "4d835056",
   "metadata": {},
   "outputs": [
    {
     "name": "stdout",
     "output_type": "stream",
     "text": [
      "\n",
      "--- Missing values after '?' replacement and type conversion ---\n",
      "id                              0\n",
      "clump_thickness                 0\n",
      "uniformity_of_cell_size         0\n",
      "uniformity_of_cell_shape        0\n",
      "marginal_adhesion               0\n",
      "single_epithelial_cell_size     0\n",
      "bare_nuclei                    16\n",
      "bland_chromatin                 0\n",
      "normal_nucleoli                 0\n",
      "mitoses                         0\n",
      "class                           0\n",
      "dtype: int64\n"
     ]
    }
   ],
   "source": [
    "# Check for remaining missing values\n",
    "print(\"\\n--- Missing values after '?' replacement and type conversion ---\")\n",
    "print(df.isnull().sum())"
   ]
  },
  {
   "cell_type": "code",
   "execution_count": 11,
   "id": "ffe7b314",
   "metadata": {},
   "outputs": [
    {
     "name": "stdout",
     "output_type": "stream",
     "text": [
      "\n",
      "Missing values in 'bare_nuclei' filled with median: 1.0\n",
      "--- Missing values after imputation ---\n",
      "id                             0\n",
      "clump_thickness                0\n",
      "uniformity_of_cell_size        0\n",
      "uniformity_of_cell_shape       0\n",
      "marginal_adhesion              0\n",
      "single_epithelial_cell_size    0\n",
      "bare_nuclei                    0\n",
      "bland_chromatin                0\n",
      "normal_nucleoli                0\n",
      "mitoses                        0\n",
      "class                          0\n",
      "dtype: int64\n"
     ]
    }
   ],
   "source": [
    "# Impute missing values with the median (a robust choice for potentially skewed data)\n",
    "median_bare_nuclei = df['bare_nuclei'].median()\n",
    "df['bare_nuclei'].fillna(median_bare_nuclei, inplace=True)\n",
    "\n",
    "print(f\"\\nMissing values in 'bare_nuclei' filled with median: {median_bare_nuclei}\")\n",
    "print(\"--- Missing values after imputation ---\")\n",
    "print(df.isnull().sum())"
   ]
  },
  {
   "cell_type": "code",
   "execution_count": 12,
   "id": "3900b737",
   "metadata": {},
   "outputs": [
    {
     "name": "stdout",
     "output_type": "stream",
     "text": [
      "\n",
      "'id' column dropped.\n",
      "   clump_thickness  uniformity_of_cell_size  uniformity_of_cell_shape  \\\n",
      "0                5                        1                         1   \n",
      "1                5                        4                         4   \n",
      "2                3                        1                         1   \n",
      "3                6                        8                         8   \n",
      "4                4                        1                         1   \n",
      "\n",
      "   marginal_adhesion  single_epithelial_cell_size  bare_nuclei  \\\n",
      "0                  1                            2          1.0   \n",
      "1                  5                            7         10.0   \n",
      "2                  1                            2          2.0   \n",
      "3                  1                            3          4.0   \n",
      "4                  3                            2          1.0   \n",
      "\n",
      "   bland_chromatin  normal_nucleoli  mitoses  class  \n",
      "0                3                1        1      2  \n",
      "1                3                2        1      2  \n",
      "2                3                1        1      2  \n",
      "3                3                7        1      2  \n",
      "4                3                1        1      2  \n"
     ]
    }
   ],
   "source": [
    "# --- Step 6: Drop the 'id' column ---\n",
    "# The 'id' column is a unique identifier and not a predictive feature.\n",
    "df.drop('id', axis=1, inplace=True)\n",
    "print(\"\\n'id' column dropped.\")\n",
    "print(df.head())"
   ]
  },
  {
   "cell_type": "code",
   "execution_count": 13,
   "id": "b9fcd66b",
   "metadata": {},
   "outputs": [
    {
     "name": "stdout",
     "output_type": "stream",
     "text": [
      "\n",
      "--- Class distribution after mapping (0 for benign, 1 for malignant) ---\n",
      "0    458\n",
      "1    241\n",
      "Name: class, dtype: int64\n",
      "\n",
      "--- Preprocessing steps completed. Data is now clean and ready for splitting and scaling. ---\n",
      "   clump_thickness  uniformity_of_cell_size  uniformity_of_cell_shape  \\\n",
      "0                5                        1                         1   \n",
      "1                5                        4                         4   \n",
      "2                3                        1                         1   \n",
      "3                6                        8                         8   \n",
      "4                4                        1                         1   \n",
      "\n",
      "   marginal_adhesion  single_epithelial_cell_size  bare_nuclei  \\\n",
      "0                  1                            2          1.0   \n",
      "1                  5                            7         10.0   \n",
      "2                  1                            2          2.0   \n",
      "3                  1                            3          4.0   \n",
      "4                  3                            2          1.0   \n",
      "\n",
      "   bland_chromatin  normal_nucleoli  mitoses  class  \n",
      "0                3                1        1      0  \n",
      "1                3                2        1      0  \n",
      "2                3                1        1      0  \n",
      "3                3                7        1      0  \n",
      "4                3                1        1      0  \n",
      "<class 'pandas.core.frame.DataFrame'>\n",
      "RangeIndex: 699 entries, 0 to 698\n",
      "Data columns (total 10 columns):\n",
      " #   Column                       Non-Null Count  Dtype  \n",
      "---  ------                       --------------  -----  \n",
      " 0   clump_thickness              699 non-null    int64  \n",
      " 1   uniformity_of_cell_size      699 non-null    int64  \n",
      " 2   uniformity_of_cell_shape     699 non-null    int64  \n",
      " 3   marginal_adhesion            699 non-null    int64  \n",
      " 4   single_epithelial_cell_size  699 non-null    int64  \n",
      " 5   bare_nuclei                  699 non-null    float64\n",
      " 6   bland_chromatin              699 non-null    int64  \n",
      " 7   normal_nucleoli              699 non-null    int64  \n",
      " 8   mitoses                      699 non-null    int64  \n",
      " 9   class                        699 non-null    int64  \n",
      "dtypes: float64(1), int64(9)\n",
      "memory usage: 54.7 KB\n",
      "None\n"
     ]
    }
   ],
   "source": [
    "# --- Step 8: Transform the 'class' target variable to 0 and 1 ---\n",
    "# 2 = benign (map to 0)\n",
    "# 4 = malignant (map to 1)\n",
    "df['class'] = df['class'].map({2: 0, 4: 1})\n",
    "print(\"\\n--- Class distribution after mapping (0 for benign, 1 for malignant) ---\")\n",
    "print(df['class'].value_counts())\n",
    "\n",
    "\n",
    "print(\"\\n--- Preprocessing steps completed. Data is now clean and ready for splitting and scaling. ---\")\n",
    "print(df.head())\n",
    "print(df.info())"
   ]
  },
  {
   "cell_type": "code",
   "execution_count": 14,
   "id": "20239fa2",
   "metadata": {},
   "outputs": [
    {
     "name": "stdout",
     "output_type": "stream",
     "text": [
      "\n",
      "--- Features (X) Head ---\n",
      "   clump_thickness  uniformity_of_cell_size  uniformity_of_cell_shape  \\\n",
      "0                5                        1                         1   \n",
      "1                5                        4                         4   \n",
      "2                3                        1                         1   \n",
      "3                6                        8                         8   \n",
      "4                4                        1                         1   \n",
      "\n",
      "   marginal_adhesion  single_epithelial_cell_size  bare_nuclei  \\\n",
      "0                  1                            2          1.0   \n",
      "1                  5                            7         10.0   \n",
      "2                  1                            2          2.0   \n",
      "3                  1                            3          4.0   \n",
      "4                  3                            2          1.0   \n",
      "\n",
      "   bland_chromatin  normal_nucleoli  mitoses  \n",
      "0                3                1        1  \n",
      "1                3                2        1  \n",
      "2                3                1        1  \n",
      "3                3                7        1  \n",
      "4                3                1        1  \n",
      "\n",
      "--- Target (y) Head ---\n",
      "0    0\n",
      "1    0\n",
      "2    0\n",
      "3    0\n",
      "4    0\n",
      "Name: class, dtype: int64\n"
     ]
    }
   ],
   "source": [
    "# --- Step 9: Separate Features (X) and Target (y) ---\n",
    "# 'class' is our target variable, all other columns are features.\n",
    "X = df.drop('class', axis=1) # Features\n",
    "y = df['class']             # Target variable\n",
    "\n",
    "print(\"\\n--- Features (X) Head ---\")\n",
    "print(X.head())\n",
    "print(\"\\n--- Target (y) Head ---\")\n",
    "print(y.head())"
   ]
  },
  {
   "cell_type": "code",
   "execution_count": 15,
   "id": "114d0bfb",
   "metadata": {},
   "outputs": [
    {
     "name": "stdout",
     "output_type": "stream",
     "text": [
      "\n",
      "--- Scaled Features (X_scaled) Head ---\n",
      "   clump_thickness  uniformity_of_cell_size  uniformity_of_cell_shape  \\\n",
      "0         0.206936                -0.699995                 -0.743299   \n",
      "1         0.206936                 0.283845                  0.266875   \n",
      "2        -0.503866                -0.699995                 -0.743299   \n",
      "3         0.562336                 1.595632                  1.613773   \n",
      "4        -0.148465                -0.699995                 -0.743299   \n",
      "\n",
      "   marginal_adhesion  single_epithelial_cell_size  bare_nuclei  \\\n",
      "0          -0.633247                    -0.549561    -0.686979   \n",
      "1           0.768621                     1.710106     1.799664   \n",
      "2          -0.633247                    -0.549561    -0.410685   \n",
      "3          -0.633247                    -0.097628     0.141902   \n",
      "4           0.067687                    -0.549561    -0.686979   \n",
      "\n",
      "   bland_chromatin  normal_nucleoli   mitoses  \n",
      "0        -0.179662        -0.611825 -0.343912  \n",
      "1        -0.179662        -0.284112 -0.343912  \n",
      "2        -0.179662        -0.611825 -0.343912  \n",
      "3        -0.179662         1.354454 -0.343912  \n",
      "4        -0.179662        -0.611825 -0.343912  \n",
      "\n",
      "--- Scaled Features Descriptive Statistics (to check mean near 0, std near 1) ---\n",
      "       clump_thickness  uniformity_of_cell_size  uniformity_of_cell_shape  \\\n",
      "count     6.990000e+02             6.990000e+02              6.990000e+02   \n",
      "mean     -5.082566e-17            -9.148619e-17             -3.049540e-17   \n",
      "std       1.000716e+00             1.000716e+00              1.000716e+00   \n",
      "min      -1.214667e+00            -6.999951e-01             -7.432990e-01   \n",
      "25%      -8.592662e-01            -6.999951e-01             -7.432990e-01   \n",
      "50%      -1.484649e-01            -6.999951e-01             -7.432990e-01   \n",
      "75%       5.623364e-01             6.117919e-01              6.035993e-01   \n",
      "max       1.983939e+00             2.251526e+00              2.287222e+00   \n",
      "\n",
      "       marginal_adhesion  single_epithelial_cell_size   bare_nuclei  \\\n",
      "count       6.990000e+02                 6.990000e+02  6.990000e+02   \n",
      "mean        5.082566e-17                 5.082566e-17 -8.132106e-17   \n",
      "std         1.000716e+00                 1.000716e+00  1.000716e+00   \n",
      "min        -6.332472e-01                -1.001495e+00 -6.869792e-01   \n",
      "25%        -6.332472e-01                -5.495614e-01 -6.869792e-01   \n",
      "50%        -6.332472e-01                -5.495614e-01 -6.869792e-01   \n",
      "75%         4.181537e-01                 3.543054e-01  4.181956e-01   \n",
      "max         2.520955e+00                 3.065906e+00  1.799664e+00   \n",
      "\n",
      "       bland_chromatin  normal_nucleoli       mitoses  \n",
      "count     6.990000e+02     6.990000e+02  6.990000e+02  \n",
      "mean      3.049540e-17    -1.321467e-16 -8.132106e-17  \n",
      "std       1.000716e+00     1.000716e+00  1.000716e+00  \n",
      "min      -1.000471e+00    -6.118250e-01 -3.439118e-01  \n",
      "25%      -5.900668e-01    -6.118250e-01 -3.439118e-01  \n",
      "50%      -1.796621e-01    -6.118250e-01 -3.439118e-01  \n",
      "75%       6.411472e-01     3.713145e-01 -3.439118e-01  \n",
      "max       2.693171e+00     2.337594e+00  4.907421e+00  \n"
     ]
    }
   ],
   "source": [
    "# --- Step 10: Feature Scaling ---\n",
    "# All features are currently on a scale of 1-10, but Logistic Regression benefits from standardization.\n",
    "# StandardScaler transforms data to have a mean of 0 and standard deviation of 1.\n",
    "from sklearn.preprocessing import StandardScaler\n",
    "\n",
    "scaler = StandardScaler()\n",
    "X_scaled = scaler.fit_transform(X)\n",
    "\n",
    "# It's good practice to convert the scaled array back into a DataFrame\n",
    "# for easier inspection and to retain column names.\n",
    "X_scaled = pd.DataFrame(X_scaled, columns=X.columns)\n",
    "\n",
    "print(\"\\n--- Scaled Features (X_scaled) Head ---\")\n",
    "print(X_scaled.head())\n",
    "print(\"\\n--- Scaled Features Descriptive Statistics (to check mean near 0, std near 1) ---\")\n",
    "print(X_scaled.describe())"
   ]
  },
  {
   "cell_type": "code",
   "execution_count": 17,
   "id": "a477fa71",
   "metadata": {},
   "outputs": [
    {
     "name": "stdout",
     "output_type": "stream",
     "text": [
      "\n",
      "--- Data Split Summary ---\n",
      "X_train shape: (559, 9)\n",
      "X_test shape: (140, 9)\n",
      "y_train shape: (559,)\n",
      "y_test shape: (140,)\n",
      "\n",
      "--- Class distribution in y_train ---\n",
      "0    0.654741\n",
      "1    0.345259\n",
      "Name: class, dtype: float64\n",
      "\n",
      "--- Class distribution in y_test ---\n",
      "0    0.657143\n",
      "1    0.342857\n",
      "Name: class, dtype: float64\n"
     ]
    }
   ],
   "source": [
    "# --- Step 11: Split Data into Training and Testing Sets ---\n",
    "# We'll use 80% for training and 20% for testing.\n",
    "# 'random_state' ensures reproducibility.\n",
    "# 'stratify=y' is crucial for imbalanced datasets (like ours with 458 benign vs 241 malignant)\n",
    "#   It ensures that the proportion of classes is roughly the same in both training and testing sets.\n",
    "from sklearn.model_selection import train_test_split\n",
    "\n",
    "X_train, X_test, y_train, y_test = train_test_split(\n",
    "    X_scaled, y, test_size=0.2, random_state=42, stratify=y\n",
    ")\n",
    "\n",
    "print(f\"\\n--- Data Split Summary ---\")\n",
    "print(f\"X_train shape: {X_train.shape}\")\n",
    "print(f\"X_test shape: {X_test.shape}\")\n",
    "print(f\"y_train shape: {y_train.shape}\")\n",
    "print(f\"y_test shape: {y_test.shape}\")\n",
    "\n",
    "print(\"\\n--- Class distribution in y_train ---\")\n",
    "print(y_train.value_counts(normalize=True))\n",
    "print(\"\\n--- Class distribution in y_test ---\")\n",
    "print(y_test.value_counts(normalize=True)) # Should be very similar to y_train"
   ]
  },
  {
   "cell_type": "code",
   "execution_count": 18,
   "id": "b7b9e1f8",
   "metadata": {},
   "outputs": [
    {
     "name": "stdout",
     "output_type": "stream",
     "text": [
      "\n",
      "--- Training the Logistic Regression model ---\n",
      "Model training complete!\n"
     ]
    }
   ],
   "source": [
    "# --- Step 12: Choose and Train a Classification Model (Logistic Regression) ---\n",
    "# Logistic Regression is a good starting point for binary classification.\n",
    "from sklearn.linear_model import LogisticRegression\n",
    "\n",
    "# Instantiate the model with a random_state for reproducibility.\n",
    "# 'solver' is an algorithm for optimization; 'liblinear' is good for small datasets.\n",
    "model = LogisticRegression(random_state=42, solver='liblinear')\n",
    "\n",
    "print(\"\\n--- Training the Logistic Regression model ---\")\n",
    "model.fit(X_train, y_train)\n",
    "print(\"Model training complete!\")"
   ]
  },
  {
   "cell_type": "code",
   "execution_count": 19,
   "id": "f6e4f52d",
   "metadata": {},
   "outputs": [
    {
     "name": "stdout",
     "output_type": "stream",
     "text": [
      "\n",
      "--- First 5 predictions (class labels) ---\n",
      "[1 0 0 0 1]\n",
      "\n",
      "--- First 5 prediction probabilities (for class 0 and class 1) ---\n",
      "[[1.68183501e-02 9.83181650e-01]\n",
      " [9.98040383e-01 1.95961744e-03]\n",
      " [9.62507657e-01 3.74923432e-02]\n",
      " [9.96406513e-01 3.59348663e-03]\n",
      " [7.43053898e-04 9.99256946e-01]]\n"
     ]
    }
   ],
   "source": [
    "# --- Step 13: Make Predictions on the Test Set ---\n",
    "# Use the trained model to predict class labels for the unseen test data.\n",
    "y_pred = model.predict(X_test)\n",
    "\n",
    "# You can also get probabilities for each class (useful for ROC curve, etc.)\n",
    "y_pred_proba = model.predict_proba(X_test)\n",
    "print(\"\\n--- First 5 predictions (class labels) ---\")\n",
    "print(y_pred[:5])\n",
    "print(\"\\n--- First 5 prediction probabilities (for class 0 and class 1) ---\")\n",
    "print(y_pred_proba[:5])"
   ]
  },
  {
   "cell_type": "code",
   "execution_count": 20,
   "id": "e0c7747c",
   "metadata": {},
   "outputs": [
    {
     "name": "stdout",
     "output_type": "stream",
     "text": [
      "\n",
      "--- Model Evaluation ---\n",
      "Accuracy: 0.9500\n",
      "\n",
      "Confusion Matrix:\n",
      "[[89  3]\n",
      " [ 4 44]]\n"
     ]
    },
    {
     "data": {
      "image/png": "[encoded data removed]",
      "text/plain": [
       "<Figure size 600x400 with 1 Axes>"
      ]
     },
     "metadata": {},
     "output_type": "display_data"
    },
    {
     "name": "stdout",
     "output_type": "stream",
     "text": [
      "\n",
      "Classification Report:\n",
      "              precision    recall  f1-score   support\n",
      "\n",
      "           0       0.96      0.97      0.96        92\n",
      "           1       0.94      0.92      0.93        48\n",
      "\n",
      "    accuracy                           0.95       140\n",
      "   macro avg       0.95      0.94      0.94       140\n",
      "weighted avg       0.95      0.95      0.95       140\n",
      "\n"
     ]
    },
    {
     "data": {
      "image/png": "[encoded data removed]",
      "text/plain": [
       "<Figure size 800x600 with 1 Axes>"
      ]
     },
     "metadata": {},
     "output_type": "display_data"
    },
    {
     "name": "stdout",
     "output_type": "stream",
     "text": [
      "\n",
      "Area Under the ROC Curve (AUC): 0.9950\n"
     ]
    }
   ],
   "source": [
    "# --- Step 14: Evaluate Model Performance ---\n",
    "# We'll use several key metrics for classification.\n",
    "from sklearn.metrics import accuracy_score, confusion_matrix, classification_report, roc_curve, auc\n",
    "import matplotlib.pyplot as plt\n",
    "import seaborn as sns\n",
    "\n",
    "print(\"\\n--- Model Evaluation ---\")\n",
    "\n",
    "# A. Accuracy Score\n",
    "accuracy = accuracy_score(y_test, y_pred)\n",
    "print(f\"Accuracy: {accuracy:.4f}\")\n",
    "\n",
    "# B. Confusion Matrix\n",
    "# This provides a detailed breakdown of correct and incorrect predictions.\n",
    "# Rows: Actual classes, Columns: Predicted classes\n",
    "# [[TN, FP],\n",
    "#  [FN, TP]]\n",
    "conf_matrix = confusion_matrix(y_test, y_pred)\n",
    "print(\"\\nConfusion Matrix:\")\n",
    "print(conf_matrix)\n",
    "\n",
    "# Visualize the Confusion Matrix for better understanding\n",
    "plt.figure(figsize=(6, 4))\n",
    "sns.heatmap(conf_matrix, annot=True, fmt='d', cmap='Blues', cbar=False,\n",
    "            xticklabels=['Predicted Benign (0)', 'Predicted Malignant (1)'],\n",
    "            yticklabels=['Actual Benign (0)', 'Actual Malignant (1)'])\n",
    "plt.title('Confusion Matrix')\n",
    "plt.xlabel('Predicted Label')\n",
    "plt.ylabel('True Label')\n",
    "plt.show()\n",
    "\n",
    "# C. Classification Report\n",
    "# Provides Precision, Recall, and F1-Score for each class.\n",
    "# These are especially important for imbalanced datasets.\n",
    "print(\"\\nClassification Report:\")\n",
    "print(classification_report(y_test, y_pred))\n",
    "\n",
    "# D. ROC Curve and AUC (Area Under the Curve)\n",
    "# Useful for binary classification, especially with imbalanced data.\n",
    "# It shows the trade-off between True Positive Rate (TPR) and False Positive Rate (FPR).\n",
    "# The AUC value (0 to 1) summarizes the curve's performance.\n",
    "# We need the probabilities for the positive class (class 1 - malignant)\n",
    "fpr, tpr, thresholds = roc_curve(y_test, y_pred_proba[:, 1])\n",
    "roc_auc = auc(fpr, tpr)\n",
    "\n",
    "plt.figure(figsize=(8, 6))\n",
    "plt.plot(fpr, tpr, color='darkorange', lw=2, label=f'ROC curve (AUC = {roc_auc:.2f})')\n",
    "plt.plot([0, 1], [0, 1], color='navy', lw=2, linestyle='--', label='Random Classifier')\n",
    "plt.xlim([0.0, 1.0])\n",
    "plt.ylim([0.0, 1.05])\n",
    "plt.xlabel('False Positive Rate')\n",
    "plt.ylabel('True Positive Rate')\n",
    "plt.title('Receiver Operating Characteristic (ROC) Curve')\n",
    "plt.legend(loc=\"lower right\")\n",
    "plt.grid(True)\n",
    "plt.show()\n",
    "\n",
    "print(f\"\\nArea Under the ROC Curve (AUC): {roc_auc:.4f}\")\n"
   ]
  }
 ],
 "metadata": {
  "kernelspec": {
   "display_name": "Python 3 (ipykernel)",
   "language": "python",
   "name": "python3"
  },
  "language_info": {
   "codemirror_mode": {
    "name": "ipython",
    "version": 3
   },
   "file_extension": ".py",
   "mimetype": "text/x-python",
   "name": "python",
   "nbconvert_exporter": "python",
   "pygments_lexer": "ipython3",
   "version": "3.11.4"
  }
 },
 "nbformat": 4,
 "nbformat_minor": 5
}
